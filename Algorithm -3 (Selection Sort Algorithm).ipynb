{
 "cells": [
  {
   "cell_type": "markdown",
   "id": "4bd40976",
   "metadata": {},
   "source": [
    "# Selection Sort\n",
    "\n",
    "<p>Runs O(n<sup>2</sup>) times</p>"
   ]
  },
  {
   "cell_type": "markdown",
   "id": "8463c707",
   "metadata": {},
   "source": [
    "<img src=\"selection%20sort.jpg\" width='356'>"
   ]
  },
  {
   "cell_type": "code",
   "execution_count": 1,
   "id": "b931ec55",
   "metadata": {},
   "outputs": [],
   "source": [
    "def selection_sort(A):\n",
    "    for i in range(0, len(A)-1):\n",
    "        min_idx = i\n",
    "        for j in range(i+1, len(A)):\n",
    "            if A[j] < A[min_idx]:\n",
    "                min_idx = j\n",
    "        A[i], A[min_idx] = A[min_idx], A[i]\n",
    "    return A"
   ]
  },
  {
   "cell_type": "code",
   "execution_count": 2,
   "id": "8862e757",
   "metadata": {},
   "outputs": [
    {
     "name": "stdout",
     "output_type": "stream",
     "text": [
      "Wall time: 0 ns\n"
     ]
    },
    {
     "data": {
      "text/plain": [
       "[1, 2, 3, 4, 5, 6]"
      ]
     },
     "execution_count": 2,
     "metadata": {},
     "output_type": "execute_result"
    }
   ],
   "source": [
    "%%time\n",
    "A = [2,6,4,5,1,3]\n",
    "selection_sort(A)"
   ]
  },
  {
   "cell_type": "code",
   "execution_count": null,
   "id": "5124229e",
   "metadata": {},
   "outputs": [],
   "source": []
  }
 ],
 "metadata": {
  "kernelspec": {
   "display_name": "Python 3",
   "language": "python",
   "name": "python3"
  },
  "language_info": {
   "codemirror_mode": {
    "name": "ipython",
    "version": 3
   },
   "file_extension": ".py",
   "mimetype": "text/x-python",
   "name": "python",
   "nbconvert_exporter": "python",
   "pygments_lexer": "ipython3",
   "version": "3.8.8"
  }
 },
 "nbformat": 4,
 "nbformat_minor": 5
}
