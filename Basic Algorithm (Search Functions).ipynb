{
 "cells": [
  {
   "cell_type": "markdown",
   "id": "95245de7",
   "metadata": {},
   "source": [
    "### Linear Search"
   ]
  },
  {
   "cell_type": "code",
   "execution_count": 1,
   "id": "4529f1a8",
   "metadata": {},
   "outputs": [],
   "source": [
    "arr = [5,8,9,6,4,2]"
   ]
  },
  {
   "cell_type": "code",
   "execution_count": 2,
   "id": "af571c7a",
   "metadata": {},
   "outputs": [
    {
     "name": "stdout",
     "output_type": "stream",
     "text": [
      "Value Found at i\n"
     ]
    }
   ],
   "source": [
    "n = 9\n",
    "for i in range(len(arr)):\n",
    "    if arr[i] == n:\n",
    "        print(\"Value Found at i\")"
   ]
  },
  {
   "cell_type": "markdown",
   "id": "0266dba1",
   "metadata": {},
   "source": [
    "### Binary Search\n",
    "\n",
    "it works for the sorted array. "
   ]
  },
  {
   "cell_type": "code",
   "execution_count": 3,
   "id": "4cf718dc",
   "metadata": {},
   "outputs": [],
   "source": [
    "arr = [1,2,3,4,5,6,7,8,9]"
   ]
  },
  {
   "cell_type": "code",
   "execution_count": 4,
   "id": "c3ee2ef3",
   "metadata": {},
   "outputs": [
    {
     "name": "stdout",
     "output_type": "stream",
     "text": [
      "Value found at 8\n"
     ]
    }
   ],
   "source": [
    "pos = -1\n",
    "n = 9\n",
    "def bs(arr, n):\n",
    "    l = 0\n",
    "    u = len(arr) - 1\n",
    "    while l <= u:\n",
    "        mid = (l+u) // 2\n",
    "        if arr[mid] == n:\n",
    "            globals()['pos'] = mid            \n",
    "            return True\n",
    "        else:\n",
    "            if arr[mid] < n:\n",
    "                l = mid +1\n",
    "            else:\n",
    "                u=mid - 1\n",
    "if bs(arr, n):\n",
    "    print(f\"Value found at {pos}\")\n",
    "else:\n",
    "    print(\"Not Found\")"
   ]
  },
  {
   "cell_type": "code",
   "execution_count": null,
   "id": "8c03f7d5",
   "metadata": {},
   "outputs": [],
   "source": []
  }
 ],
 "metadata": {
  "kernelspec": {
   "display_name": "Python 3",
   "language": "python",
   "name": "python3"
  },
  "language_info": {
   "codemirror_mode": {
    "name": "ipython",
    "version": 3
   },
   "file_extension": ".py",
   "mimetype": "text/x-python",
   "name": "python",
   "nbconvert_exporter": "python",
   "pygments_lexer": "ipython3",
   "version": "3.8.8"
  }
 },
 "nbformat": 4,
 "nbformat_minor": 5
}
